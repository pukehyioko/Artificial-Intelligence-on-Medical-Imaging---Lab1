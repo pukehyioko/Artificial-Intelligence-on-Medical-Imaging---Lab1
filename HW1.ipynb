{
 "cells": [
  {
   "cell_type": "code",
   "execution_count": 5,
   "id": "8df33330",
   "metadata": {},
   "outputs": [],
   "source": [
    "import os\n",
    "import warnings\n",
    "import numpy as np\n",
    "from tqdm import tqdm\n",
    "import matplotlib.pyplot as plt\n",
    "from argparse import ArgumentParser\n",
    "\n",
    "import torch\n",
    "import torch.nn as nn\n",
    "import torch.optim as optim\n",
    "from torch.utils.data import DataLoader\n",
    "\n",
    "from torchvision import transforms\n",
    "import torchvision.models as models\n",
    "from torchvision.datasets import ImageFolder\n",
    "\n",
    "import seaborn as sns\n",
    "from matplotlib.ticker import MaxNLocator\n",
    "import pandas as pd\n",
    "import cv2"
   ]
  },
  {
   "cell_type": "code",
   "execution_count": 6,
   "id": "766e47c5",
   "metadata": {},
   "outputs": [],
   "source": [
    "def measurement(outputs, labels, smooth=1e-10):\n",
    "    tp, tn, fp, fn = smooth, smooth, smooth, smooth\n",
    "    labels = labels.cpu().numpy()\n",
    "    outputs = outputs.detach().cpu().clone().numpy()\n",
    "    for j in range(labels.shape[0]):\n",
    "        if (int(outputs[j]) == 1 and int(labels[j]) == 1):\n",
    "            tp += 1\n",
    "        if (int(outputs[j]) == 0 and int(labels[j]) == 0):\n",
    "            tn += 1\n",
    "        if (int(outputs[j]) == 1 and int(labels[j]) == 0):\n",
    "            fp += 1\n",
    "        if (int(outputs[j]) == 0 and int(labels[j]) == 1):\n",
    "            fn += 1\n",
    "    return tp, tn, fp, fn\n",
    "\n",
    "def plot_accuracy(train_acc_list, val_acc_list):\n",
    "    plt.plot(train_acc_list)\n",
    "    plt.ylabel('Train Accuracy')\n",
    "    plt.savefig('Train_Accuracy.png')\n",
    "    plt.show()\n",
    "    plt.plot(val_acc_list)\n",
    "    plt.ylabel('Test Accuracy')\n",
    "    plt.savefig('Test_Accuracy.png')\n",
    "    plt.show()\n",
    "\n",
    "def plot_f1_score(f1_score_list):\n",
    "    plt.plot(f1_score_list)\n",
    "    plt.ylabel('Test F1 Score')\n",
    "    plt.savefig('Test_F1_Score.png')\n",
    "    plt.show()\n",
    "\n",
    "def plot_confusion_matrix(confusion_matrix):\n",
    "    csum = confusion_matrix[0][0] + confusion_matrix[0][1] + confusion_matrix[1][0] + confusion_matrix[1][1]\n",
    "    confusion_matrix[0][0] = confusion_matrix[0][0] / csum\n",
    "    confusion_matrix[0][1] = confusion_matrix[0][1] / csum\n",
    "    confusion_matrix[1][0] = confusion_matrix[1][0] / csum\n",
    "    confusion_matrix[1][1] = confusion_matrix[1][1] / csum\n",
    "    df_cm = pd.DataFrame(confusion_matrix, index = [\"Actual Normal\", \"Actual Pneumonia\"], columns = [\"Predicted Normal\", \"Predicted Pneumonia\"])\n",
    "    sns.heatmap(df_cm, annot=True)\n",
    "    plt.savefig('Confusion_Matrix.png')\n",
    "\n",
    "def train(device, train_loader, model, criterion, optimizer):\n",
    "    best_acc = 0.0\n",
    "    best_model_wts = None\n",
    "    train_acc_list = []\n",
    "    val_acc_list = []\n",
    "    f1_score_list = []\n",
    "    best_c_matrix = []\n",
    "\n",
    "    for epoch in range(1, args.num_epochs+1):\n",
    "\n",
    "        with torch.set_grad_enabled(True):\n",
    "            avg_loss = 0.0\n",
    "            train_acc = 0.0\n",
    "            tp, tn, fp, fn = 0, 0, 0, 0 \n",
    "            if epoch < 6:\n",
    "                print('stage 1')\n",
    "                for param in model.parameters():\n",
    "                    param.requires_grad = False\n",
    "                for param in model.fc.parameters():\n",
    "                    param.requires_grad = True\n",
    "            else:\n",
    "                print('stage 2')\n",
    "                for param in model.parameters():\n",
    "                    param.requires_grad = True\n",
    "            for _, data in enumerate(tqdm(train_loader)):\n",
    "                inputs, labels = data\n",
    "                inputs = inputs.to(device)\n",
    "                labels = labels.to(device)\n",
    "\n",
    "                optimizer.zero_grad()\n",
    "                outputs = model(inputs)\n",
    "                loss = criterion(outputs, labels)\n",
    "                loss.backward()\n",
    "                optimizer.step()\n",
    "\n",
    "                avg_loss += loss.item()\n",
    "                outputs = torch.max(outputs, 1).indices\n",
    "                sub_tp, sub_tn, sub_fp, sub_fn = measurement(outputs, labels)\n",
    "                tp += sub_tp\n",
    "                tn += sub_tn\n",
    "                fp += sub_fp\n",
    "                fn += sub_fn          \n",
    "\n",
    "            avg_loss /= len(train_loader.dataset)\n",
    "            train_acc = (tp+tn) / (tp+tn+fp+fn) * 100\n",
    "            print(f'Epoch: {epoch}')\n",
    "            print(f'↳ Loss: {avg_loss}')\n",
    "            print(f'↳ Training Acc.(%): {train_acc:.2f}%')\n",
    "\n",
    "        val_acc, f1_score, c_matrix = test(test_loader, model)\n",
    "        train_acc_list.append(train_acc)\n",
    "        val_acc_list.append(val_acc)\n",
    "        f1_score_list.append(f1_score)\n",
    "\n",
    "        if val_acc > best_acc:\n",
    "            best_acc = val_acc\n",
    "            best_c_matrix = c_matrix\n",
    "            torch.save(model.state_dict(), 'best_model_weights.pt')\n",
    "            stale = 0\n",
    "        else:\n",
    "            stale += 1\n",
    "            if stale > patience:\n",
    "                print(f\"No improvment {patience} consecutive epochs, early stopping\")\n",
    "                break\n",
    "\n",
    "    return train_acc_list, val_acc_list, f1_score_list, best_c_matrix\n",
    "\n",
    "def test(test_loader, model):\n",
    "    val_acc = 0.0\n",
    "    tp, tn, fp, fn = 0, 0, 0, 0\n",
    "    with torch.set_grad_enabled(False):\n",
    "        model.eval()\n",
    "        for images, labels in test_loader:\n",
    "            \n",
    "            images = images.to(device)\n",
    "            labels = labels.to(device)\n",
    "            outputs = model(images)\n",
    "            outputs = torch.max(outputs, 1).indices\n",
    "\n",
    "            sub_tp, sub_tn, sub_fp, sub_fn = measurement(outputs, labels)\n",
    "            tp += sub_tp\n",
    "            tn += sub_tn\n",
    "            fp += sub_fp\n",
    "            fn += sub_fn\n",
    "\n",
    "        c_matrix = [[int(tp), int(fn)],\n",
    "                    [int(fp), int(tn)]]\n",
    "        \n",
    "        val_acc = (tp+tn) / (tp+tn+fp+fn) * 100\n",
    "        recall = tp / (tp+fn)\n",
    "        precision = tp / (tp+fp)\n",
    "        f1_score = (2*tp) / (2*tp+fp+fn)\n",
    "        print (f'↳ Recall: {recall:.4f}, Precision: {precision:.4f}, F1-score: {f1_score:.4f}')\n",
    "        print (f'↳ Test Acc.(%): {val_acc:.2f}%')\n",
    "\n",
    "    return val_acc, f1_score, c_matrix"
   ]
  },
  {
   "cell_type": "code",
   "execution_count": 7,
   "id": "2096e2f5",
   "metadata": {},
   "outputs": [
    {
     "name": "stdout",
     "output_type": "stream",
     "text": [
      "## Now using cuda as calculating device ##\n"
     ]
    }
   ],
   "source": [
    "if __name__ == '__main__':\n",
    "    warnings.filterwarnings('ignore', category=DeprecationWarning)\n",
    "    warnings.filterwarnings('ignore', category=UserWarning)\n",
    "\n",
    "    parser = ArgumentParser()\n",
    "\n",
    "    # for model\n",
    "    parser.add_argument('--num_classes', type=int, required=False, default=2)\n",
    "\n",
    "    # for training\n",
    "    parser.add_argument('--num_epochs', type=int, required=False, default=60)\n",
    "    parser.add_argument('--batch_size', type=int, required=False, default=128)\n",
    "    parser.add_argument('--lr', type=float, default=1e-4)\n",
    "    parser.add_argument('--wd', type=float, default=0.01)\n",
    "\n",
    "    # for dataloader\n",
    "    parser.add_argument('--dataset', type=str, required=False, default='chest_xray')\n",
    "\n",
    "    # for data augmentation\n",
    "    parser.add_argument('--degree', type=int, default=90)\n",
    "    parser.add_argument('--resize', type=int, default=224)\n",
    "\n",
    "    args, unknown = parser.parse_known_args()\n",
    "\n",
    "    # set gpu\n",
    "    device = 'cuda' if torch.cuda.is_available() else 'cpu'\n",
    "    print(f'## Now using {device} as calculating device ##')\n",
    "\n",
    "    # set dataloader\n",
    "    train_dataset = ImageFolder(root=os.path.join(args.dataset, 'train'),\n",
    "                                transform = transforms.Compose([transforms.Resize((args.resize, args.resize)),\n",
    "                                                                transforms.ColorJitter(brightness=(0.7, 1.3), contrast=(0.7,1.3)),\n",
    "                                                                transforms.RandomRotation(args.degree),\n",
    "                                                                transforms.ToTensor(),\n",
    "                                                                transforms.Normalize(mean=[0.485, 0.456, 0.406], std=[0.229, 0.224, 0.225]),\n",
    "                                                                ]))\n",
    "    test_dataset = ImageFolder(root=os.path.join(args.dataset, 'test'),\n",
    "                               transform = transforms.Compose([transforms.Resize((args.resize, args.resize)),\n",
    "                                                               transforms.ToTensor(),\n",
    "                                                               transforms.Normalize(mean=[0.485, 0.456, 0.406], std=[0.229, 0.224, 0.225]),\n",
    "                                                               ]))\n",
    "\n",
    "    train_loader = DataLoader(train_dataset, batch_size=args.batch_size, shuffle=True)\n",
    "    test_loader = DataLoader(test_dataset, batch_size=args.batch_size, shuffle=False)\n",
    "\n",
    "    # define model\n",
    "    model = models.resnet50(pretrained=True)\n",
    "    num_neurons = model.fc.in_features\n",
    "    model.fc = nn.Sequential(nn.Linear(num_neurons, 64), nn.Linear(64, args.num_classes), nn.Sigmoid())\n",
    "    model = model.to(device)\n",
    "\n",
    "    # define loss function, optimizer\n",
    "    criterion = nn.CrossEntropyLoss(weight=torch.FloatTensor([3.8896346, 1.346]))\n",
    "    criterion = criterion.to(device)\n",
    "    optimizer = optim.Adam(model.parameters(), lr=args.lr, weight_decay=args.wd)\n",
    "    \n",
    "    #early stopping\n",
    "    stale = 0\n",
    "    patience = 20"
   ]
  },
  {
   "cell_type": "code",
   "execution_count": 8,
   "id": "923b9e93",
   "metadata": {},
   "outputs": [
    {
     "name": "stderr",
     "output_type": "stream",
     "text": [
      "100%|██████████| 41/41 [01:49<00:00,  2.67s/it]\n"
     ]
    },
    {
     "name": "stdout",
     "output_type": "stream",
     "text": [
      "Epoch: 1\n",
      "↳ Loss: 0.0054485068250836035\n",
      "↳ Training Acc.(%): 49.10%\n",
      "↳ Recall: 0.0692, Precision: 0.6279, F1-score: 0.1247\n",
      "↳ Test Acc.(%): 39.26%\n"
     ]
    },
    {
     "name": "stderr",
     "output_type": "stream",
     "text": [
      "100%|██████████| 41/41 [01:48<00:00,  2.65s/it]\n"
     ]
    },
    {
     "name": "stdout",
     "output_type": "stream",
     "text": [
      "Epoch: 2\n",
      "↳ Loss: 0.005429660947136352\n",
      "↳ Training Acc.(%): 38.88%\n",
      "↳ Recall: 0.2974, Precision: 0.9915, F1-score: 0.4576\n",
      "↳ Test Acc.(%): 55.93%\n"
     ]
    },
    {
     "name": "stderr",
     "output_type": "stream",
     "text": [
      "100%|██████████| 41/41 [01:55<00:00,  2.81s/it]\n"
     ]
    },
    {
     "name": "stdout",
     "output_type": "stream",
     "text": [
      "Epoch: 3\n",
      "↳ Loss: 0.0053106458640537375\n",
      "↳ Training Acc.(%): 89.53%\n",
      "↳ Recall: 0.8487, Precision: 0.9246, F1-score: 0.8850\n",
      "↳ Test Acc.(%): 86.22%\n"
     ]
    },
    {
     "name": "stderr",
     "output_type": "stream",
     "text": [
      "100%|██████████| 41/41 [02:14<00:00,  3.28s/it]\n"
     ]
    },
    {
     "name": "stdout",
     "output_type": "stream",
     "text": [
      "Epoch: 4\n",
      "↳ Loss: 0.00527425506866417\n",
      "↳ Training Acc.(%): 93.25%\n",
      "↳ Recall: 0.8692, Precision: 0.9237, F1-score: 0.8956\n",
      "↳ Test Acc.(%): 87.34%\n"
     ]
    },
    {
     "name": "stderr",
     "output_type": "stream",
     "text": [
      "100%|██████████| 41/41 [02:19<00:00,  3.41s/it]\n"
     ]
    },
    {
     "name": "stdout",
     "output_type": "stream",
     "text": [
      "Epoch: 5\n",
      "↳ Loss: 0.005266024691104158\n",
      "↳ Training Acc.(%): 95.59%\n",
      "↳ Recall: 0.8974, Precision: 0.9211, F1-score: 0.9091\n",
      "↳ Test Acc.(%): 88.78%\n"
     ]
    },
    {
     "name": "stderr",
     "output_type": "stream",
     "text": [
      "100%|██████████| 41/41 [02:16<00:00,  3.34s/it]\n"
     ]
    },
    {
     "name": "stdout",
     "output_type": "stream",
     "text": [
      "Epoch: 6\n",
      "↳ Loss: 0.0052654541046158665\n",
      "↳ Training Acc.(%): 95.32%\n",
      "↳ Recall: 0.9718, Precision: 0.8814, F1-score: 0.9244\n",
      "↳ Test Acc.(%): 90.06%\n"
     ]
    },
    {
     "name": "stderr",
     "output_type": "stream",
     "text": [
      "100%|██████████| 41/41 [02:10<00:00,  3.18s/it]\n"
     ]
    },
    {
     "name": "stdout",
     "output_type": "stream",
     "text": [
      "Epoch: 7\n",
      "↳ Loss: 0.0052652239022445094\n",
      "↳ Training Acc.(%): 95.61%\n",
      "↳ Recall: 0.9436, Precision: 0.9109, F1-score: 0.9270\n",
      "↳ Test Acc.(%): 90.71%\n"
     ]
    },
    {
     "name": "stderr",
     "output_type": "stream",
     "text": [
      "100%|██████████| 41/41 [02:12<00:00,  3.24s/it]\n"
     ]
    },
    {
     "name": "stdout",
     "output_type": "stream",
     "text": [
      "Epoch: 8\n",
      "↳ Loss: 0.00526308435146794\n",
      "↳ Training Acc.(%): 95.59%\n",
      "↳ Recall: 0.9385, Precision: 0.9127, F1-score: 0.9254\n",
      "↳ Test Acc.(%): 90.54%\n"
     ]
    },
    {
     "name": "stderr",
     "output_type": "stream",
     "text": [
      "100%|██████████| 41/41 [02:06<00:00,  3.08s/it]\n"
     ]
    },
    {
     "name": "stdout",
     "output_type": "stream",
     "text": [
      "Epoch: 9\n",
      "↳ Loss: 0.005261205571012263\n",
      "↳ Training Acc.(%): 96.17%\n",
      "↳ Recall: 0.9744, Precision: 0.9069, F1-score: 0.9394\n",
      "↳ Test Acc.(%): 92.15%\n"
     ]
    },
    {
     "name": "stderr",
     "output_type": "stream",
     "text": [
      "100%|██████████| 41/41 [01:51<00:00,  2.72s/it]\n"
     ]
    },
    {
     "name": "stdout",
     "output_type": "stream",
     "text": [
      "Epoch: 10\n",
      "↳ Loss: 0.005262598361065783\n",
      "↳ Training Acc.(%): 95.90%\n",
      "↳ Recall: 0.9974, Precision: 0.7780, F1-score: 0.8742\n",
      "↳ Test Acc.(%): 82.05%\n"
     ]
    },
    {
     "name": "stderr",
     "output_type": "stream",
     "text": [
      "100%|██████████| 41/41 [01:49<00:00,  2.68s/it]\n"
     ]
    },
    {
     "name": "stdout",
     "output_type": "stream",
     "text": [
      "Epoch: 11\n",
      "↳ Loss: 0.005265295265550994\n",
      "↳ Training Acc.(%): 95.36%\n",
      "↳ Recall: 0.9949, Precision: 0.8134, F1-score: 0.8950\n",
      "↳ Test Acc.(%): 85.42%\n"
     ]
    },
    {
     "name": "stderr",
     "output_type": "stream",
     "text": [
      "100%|██████████| 41/41 [01:46<00:00,  2.60s/it]\n"
     ]
    },
    {
     "name": "stdout",
     "output_type": "stream",
     "text": [
      "Epoch: 12\n",
      "↳ Loss: 0.005260804336678031\n",
      "↳ Training Acc.(%): 96.68%\n",
      "↳ Recall: 0.9795, Precision: 0.8863, F1-score: 0.9306\n",
      "↳ Test Acc.(%): 90.87%\n"
     ]
    },
    {
     "name": "stderr",
     "output_type": "stream",
     "text": [
      "100%|██████████| 41/41 [01:49<00:00,  2.67s/it]\n"
     ]
    },
    {
     "name": "stdout",
     "output_type": "stream",
     "text": [
      "Epoch: 13\n",
      "↳ Loss: 0.005264881849746031\n",
      "↳ Training Acc.(%): 95.48%\n",
      "↳ Recall: 0.9564, Precision: 0.9120, F1-score: 0.9337\n",
      "↳ Test Acc.(%): 91.51%\n"
     ]
    },
    {
     "name": "stderr",
     "output_type": "stream",
     "text": [
      "100%|██████████| 41/41 [01:54<00:00,  2.80s/it]\n"
     ]
    },
    {
     "name": "stdout",
     "output_type": "stream",
     "text": [
      "Epoch: 14\n",
      "↳ Loss: 0.00526532238246473\n",
      "↳ Training Acc.(%): 95.07%\n",
      "↳ Recall: 0.9974, Precision: 0.8259, F1-score: 0.9036\n",
      "↳ Test Acc.(%): 86.70%\n"
     ]
    },
    {
     "name": "stderr",
     "output_type": "stream",
     "text": [
      "100%|██████████| 41/41 [01:52<00:00,  2.75s/it]\n"
     ]
    },
    {
     "name": "stdout",
     "output_type": "stream",
     "text": [
      "Epoch: 15\n",
      "↳ Loss: 0.0052619684099054044\n",
      "↳ Training Acc.(%): 96.40%\n",
      "↳ Recall: 0.9897, Precision: 0.8694, F1-score: 0.9257\n",
      "↳ Test Acc.(%): 90.06%\n"
     ]
    },
    {
     "name": "stderr",
     "output_type": "stream",
     "text": [
      "100%|██████████| 41/41 [01:56<00:00,  2.85s/it]\n"
     ]
    },
    {
     "name": "stdout",
     "output_type": "stream",
     "text": [
      "Epoch: 16\n",
      "↳ Loss: 0.0052599225284680265\n",
      "↳ Training Acc.(%): 96.63%\n",
      "↳ Recall: 0.9769, Precision: 0.9093, F1-score: 0.9419\n",
      "↳ Test Acc.(%): 92.47%\n"
     ]
    },
    {
     "name": "stderr",
     "output_type": "stream",
     "text": [
      "100%|██████████| 41/41 [02:07<00:00,  3.11s/it]\n"
     ]
    },
    {
     "name": "stdout",
     "output_type": "stream",
     "text": [
      "Epoch: 17\n",
      "↳ Loss: 0.0052598556903608006\n",
      "↳ Training Acc.(%): 96.49%\n",
      "↳ Recall: 0.9949, Precision: 0.8033, F1-score: 0.8889\n",
      "↳ Test Acc.(%): 84.46%\n"
     ]
    },
    {
     "name": "stderr",
     "output_type": "stream",
     "text": [
      "100%|██████████| 41/41 [02:09<00:00,  3.16s/it]\n"
     ]
    },
    {
     "name": "stdout",
     "output_type": "stream",
     "text": [
      "Epoch: 18\n",
      "↳ Loss: 0.005262388396391108\n",
      "↳ Training Acc.(%): 96.07%\n",
      "↳ Recall: 0.9974, Precision: 0.8155, F1-score: 0.8973\n",
      "↳ Test Acc.(%): 85.74%\n"
     ]
    },
    {
     "name": "stderr",
     "output_type": "stream",
     "text": [
      "100%|██████████| 41/41 [02:09<00:00,  3.15s/it]\n"
     ]
    },
    {
     "name": "stdout",
     "output_type": "stream",
     "text": [
      "Epoch: 19\n",
      "↳ Loss: 0.005268639696339157\n",
      "↳ Training Acc.(%): 94.38%\n",
      "↳ Recall: 0.9949, Precision: 0.8203, F1-score: 0.8992\n",
      "↳ Test Acc.(%): 86.06%\n"
     ]
    },
    {
     "name": "stderr",
     "output_type": "stream",
     "text": [
      "100%|██████████| 41/41 [01:58<00:00,  2.90s/it]\n"
     ]
    },
    {
     "name": "stdout",
     "output_type": "stream",
     "text": [
      "Epoch: 20\n",
      "↳ Loss: 0.005263005114771837\n",
      "↳ Training Acc.(%): 95.88%\n",
      "↳ Recall: 0.9821, Precision: 0.8886, F1-score: 0.9330\n",
      "↳ Test Acc.(%): 91.19%\n"
     ]
    },
    {
     "name": "stderr",
     "output_type": "stream",
     "text": [
      "100%|██████████| 41/41 [02:04<00:00,  3.05s/it]\n"
     ]
    },
    {
     "name": "stdout",
     "output_type": "stream",
     "text": [
      "Epoch: 21\n",
      "↳ Loss: 0.005260561724290526\n",
      "↳ Training Acc.(%): 96.26%\n",
      "↳ Recall: 0.9872, Precision: 0.8710, F1-score: 0.9255\n",
      "↳ Test Acc.(%): 90.06%\n"
     ]
    },
    {
     "name": "stderr",
     "output_type": "stream",
     "text": [
      "100%|██████████| 41/41 [02:12<00:00,  3.23s/it]\n"
     ]
    },
    {
     "name": "stdout",
     "output_type": "stream",
     "text": [
      "Epoch: 22\n",
      "↳ Loss: 0.005260657233420325\n",
      "↳ Training Acc.(%): 96.43%\n",
      "↳ Recall: 0.9923, Precision: 0.8431, F1-score: 0.9117\n",
      "↳ Test Acc.(%): 87.98%\n"
     ]
    },
    {
     "name": "stderr",
     "output_type": "stream",
     "text": [
      "100%|██████████| 41/41 [02:18<00:00,  3.37s/it]\n"
     ]
    },
    {
     "name": "stdout",
     "output_type": "stream",
     "text": [
      "Epoch: 23\n",
      "↳ Loss: 0.005260507239063093\n",
      "↳ Training Acc.(%): 96.64%\n",
      "↳ Recall: 0.9821, Precision: 0.8744, F1-score: 0.9251\n",
      "↳ Test Acc.(%): 90.06%\n"
     ]
    },
    {
     "name": "stderr",
     "output_type": "stream",
     "text": [
      "100%|██████████| 41/41 [02:06<00:00,  3.08s/it]\n"
     ]
    },
    {
     "name": "stdout",
     "output_type": "stream",
     "text": [
      "Epoch: 24\n",
      "↳ Loss: 0.005264922439412106\n",
      "↳ Training Acc.(%): 95.25%\n",
      "↳ Recall: 0.9641, Precision: 0.9060, F1-score: 0.9342\n",
      "↳ Test Acc.(%): 91.51%\n"
     ]
    },
    {
     "name": "stderr",
     "output_type": "stream",
     "text": [
      "100%|██████████| 41/41 [01:59<00:00,  2.91s/it]\n"
     ]
    },
    {
     "name": "stdout",
     "output_type": "stream",
     "text": [
      "Epoch: 25\n",
      "↳ Loss: 0.005261250925850283\n",
      "↳ Training Acc.(%): 96.34%\n",
      "↳ Recall: 0.9974, Precision: 0.7138, F1-score: 0.8321\n",
      "↳ Test Acc.(%): 74.84%\n"
     ]
    },
    {
     "name": "stderr",
     "output_type": "stream",
     "text": [
      "100%|██████████| 41/41 [01:18<00:00,  1.92s/it]\n"
     ]
    },
    {
     "name": "stdout",
     "output_type": "stream",
     "text": [
      "Epoch: 26\n",
      "↳ Loss: 0.005271997782715991\n",
      "↳ Training Acc.(%): 93.31%\n",
      "↳ Recall: 0.9795, Precision: 0.8643, F1-score: 0.9183\n",
      "↳ Test Acc.(%): 89.10%\n"
     ]
    },
    {
     "name": "stderr",
     "output_type": "stream",
     "text": [
      "100%|██████████| 41/41 [01:18<00:00,  1.90s/it]\n"
     ]
    },
    {
     "name": "stdout",
     "output_type": "stream",
     "text": [
      "Epoch: 27\n",
      "↳ Loss: 0.005264222610490454\n",
      "↳ Training Acc.(%): 95.49%\n",
      "↳ Recall: 0.9744, Precision: 0.8941, F1-score: 0.9325\n",
      "↳ Test Acc.(%): 91.19%\n"
     ]
    },
    {
     "name": "stderr",
     "output_type": "stream",
     "text": [
      "100%|██████████| 41/41 [01:17<00:00,  1.89s/it]\n"
     ]
    },
    {
     "name": "stdout",
     "output_type": "stream",
     "text": [
      "Epoch: 28\n",
      "↳ Loss: 0.005267100271546036\n",
      "↳ Training Acc.(%): 95.17%\n",
      "↳ Recall: 0.9513, Precision: 0.9229, F1-score: 0.9369\n",
      "↳ Test Acc.(%): 91.99%\n"
     ]
    },
    {
     "name": "stderr",
     "output_type": "stream",
     "text": [
      "100%|██████████| 41/41 [01:17<00:00,  1.89s/it]\n"
     ]
    },
    {
     "name": "stdout",
     "output_type": "stream",
     "text": [
      "Epoch: 29\n",
      "↳ Loss: 0.00526892897770083\n",
      "↳ Training Acc.(%): 94.10%\n",
      "↳ Recall: 0.9641, Precision: 0.9082, F1-score: 0.9353\n",
      "↳ Test Acc.(%): 91.67%\n"
     ]
    },
    {
     "name": "stderr",
     "output_type": "stream",
     "text": [
      "100%|██████████| 41/41 [01:24<00:00,  2.05s/it]\n"
     ]
    },
    {
     "name": "stdout",
     "output_type": "stream",
     "text": [
      "Epoch: 30\n",
      "↳ Loss: 0.00526272929473523\n",
      "↳ Training Acc.(%): 96.17%\n",
      "↳ Recall: 0.9795, Precision: 0.8643, F1-score: 0.9183\n",
      "↳ Test Acc.(%): 89.10%\n"
     ]
    },
    {
     "name": "stderr",
     "output_type": "stream",
     "text": [
      "100%|██████████| 41/41 [01:51<00:00,  2.72s/it]\n"
     ]
    },
    {
     "name": "stdout",
     "output_type": "stream",
     "text": [
      "Epoch: 31\n",
      "↳ Loss: 0.005261573791960997\n",
      "↳ Training Acc.(%): 96.30%\n",
      "↳ Recall: 0.9897, Precision: 0.8319, F1-score: 0.9040\n",
      "↳ Test Acc.(%): 86.86%\n"
     ]
    },
    {
     "name": "stderr",
     "output_type": "stream",
     "text": [
      "100%|██████████| 41/41 [01:45<00:00,  2.57s/it]\n"
     ]
    },
    {
     "name": "stdout",
     "output_type": "stream",
     "text": [
      "Epoch: 32\n",
      "↳ Loss: 0.005266172262879968\n",
      "↳ Training Acc.(%): 95.49%\n",
      "↳ Recall: 0.9615, Precision: 0.9058, F1-score: 0.9328\n",
      "↳ Test Acc.(%): 91.35%\n"
     ]
    },
    {
     "name": "stderr",
     "output_type": "stream",
     "text": [
      "100%|██████████| 41/41 [01:54<00:00,  2.80s/it]\n"
     ]
    },
    {
     "name": "stdout",
     "output_type": "stream",
     "text": [
      "Epoch: 33\n",
      "↳ Loss: 0.005263029706258715\n",
      "↳ Training Acc.(%): 96.07%\n",
      "↳ Recall: 0.9769, Precision: 0.8523, F1-score: 0.9104\n",
      "↳ Test Acc.(%): 87.98%\n"
     ]
    },
    {
     "name": "stderr",
     "output_type": "stream",
     "text": [
      "100%|██████████| 41/41 [01:56<00:00,  2.85s/it]\n"
     ]
    },
    {
     "name": "stdout",
     "output_type": "stream",
     "text": [
      "Epoch: 34\n",
      "↳ Loss: 0.005264475610267165\n",
      "↳ Training Acc.(%): 95.69%\n",
      "↳ Recall: 0.9846, Precision: 0.8421, F1-score: 0.9078\n",
      "↳ Test Acc.(%): 87.50%\n"
     ]
    },
    {
     "name": "stderr",
     "output_type": "stream",
     "text": [
      "100%|██████████| 41/41 [01:56<00:00,  2.83s/it]\n"
     ]
    },
    {
     "name": "stdout",
     "output_type": "stream",
     "text": [
      "Epoch: 35\n",
      "↳ Loss: 0.005268347443887061\n",
      "↳ Training Acc.(%): 94.84%\n",
      "↳ Recall: 0.9769, Precision: 0.8600, F1-score: 0.9148\n",
      "↳ Test Acc.(%): 88.62%\n"
     ]
    },
    {
     "name": "stderr",
     "output_type": "stream",
     "text": [
      "100%|██████████| 41/41 [02:00<00:00,  2.94s/it]\n"
     ]
    },
    {
     "name": "stdout",
     "output_type": "stream",
     "text": [
      "Epoch: 36\n",
      "↳ Loss: 0.005267237775896224\n",
      "↳ Training Acc.(%): 94.75%\n",
      "↳ Recall: 0.9897, Precision: 0.8178, F1-score: 0.8956\n",
      "↳ Test Acc.(%): 85.58%\n"
     ]
    },
    {
     "name": "stderr",
     "output_type": "stream",
     "text": [
      "100%|██████████| 41/41 [02:04<00:00,  3.03s/it]\n"
     ]
    },
    {
     "name": "stdout",
     "output_type": "stream",
     "text": [
      "Epoch: 37\n",
      "↳ Loss: 0.005273898629231687\n",
      "↳ Training Acc.(%): 93.52%\n",
      "↳ Recall: 0.9615, Precision: 0.8824, F1-score: 0.9202\n",
      "↳ Test Acc.(%): 89.58%\n",
      "No improvment 20 consecutive epochs, early stopping\n"
     ]
    }
   ],
   "source": [
    "# training\n",
    "train_acc_list, val_acc_list, f1_score_list, best_c_matrix = train(device, train_loader, model, criterion, optimizer)"
   ]
  },
  {
   "cell_type": "code",
   "execution_count": 9,
   "id": "7d4bf23f",
   "metadata": {},
   "outputs": [
    {
     "data": {
      "image/png": "[encoded data removed]",
      "text/plain": [
       "<Figure size 640x480 with 1 Axes>"
      ]
     },
     "metadata": {},
     "output_type": "display_data"
    },
    {
     "data": {
      "image/png": "[encoded data removed]",
      "text/plain": [
       "<Figure size 640x480 with 1 Axes>"
      ]
     },
     "metadata": {},
     "output_type": "display_data"
    },
    {
     "data": {
      "image/png": "[encoded data removed]",
      "text/plain": [
       "<Figure size 640x480 with 1 Axes>"
      ]
     },
     "metadata": {},
     "output_type": "display_data"
    },
    {
     "data": {
      "image/png": "[encoded data removed]",
      "text/plain": [
       "<Figure size 640x480 with 2 Axes>"
      ]
     },
     "metadata": {},
     "output_type": "display_data"
    }
   ],
   "source": [
    "# plot\n",
    "plot_accuracy(train_acc_list, val_acc_list)\n",
    "plot_f1_score(f1_score_list)\n",
    "plot_confusion_matrix(best_c_matrix)"
   ]
  }
 ],
 "metadata": {
  "kernelspec": {
   "display_name": "Python 3 (ipykernel)",
   "language": "python",
   "name": "python3"
  },
  "language_info": {
   "codemirror_mode": {
    "name": "ipython",
    "version": 3
   },
   "file_extension": ".py",
   "mimetype": "text/x-python",
   "name": "python",
   "nbconvert_exporter": "python",
   "pygments_lexer": "ipython3",
   "version": "3.9.7"
  }
 },
 "nbformat": 4,
 "nbformat_minor": 5
}
